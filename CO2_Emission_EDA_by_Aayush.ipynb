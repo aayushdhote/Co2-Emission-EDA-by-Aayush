{
  "nbformat": 4,
  "nbformat_minor": 0,
  "metadata": {
    "colab": {
      "private_outputs": true,
      "provenance": [],
      "authorship_tag": "ABX9TyNEZtkLps5IK1Q8ZNJZrBL1",
      "include_colab_link": true
    },
    "kernelspec": {
      "name": "python3",
      "display_name": "Python 3"
    },
    "language_info": {
      "name": "python"
    }
  },
  "cells": [
    {
      "cell_type": "markdown",
      "metadata": {
        "id": "view-in-github",
        "colab_type": "text"
      },
      "source": [
        "<a href=\"https://colab.research.google.com/github/aayushdhote/Co2-Emission-EDA-by-Aayush/blob/main/CO2_Emission_EDA_by_Aayush.ipynb\" target=\"_parent\"><img src=\"https://colab.research.google.com/assets/colab-badge.svg\" alt=\"Open In Colab\"/></a>"
      ]
    },
    {
      "cell_type": "markdown",
      "source": [
        "##Introduction:\n",
        "###Understanding global CO₂ emissions is crucial for addressing climate change and shaping sustainable policies. This project aimed to analyze emission patterns among the world’s top emitters in recent years."
      ],
      "metadata": {
        "id": "eM_J_x1AW0LX"
      }
    },
    {
      "cell_type": "markdown",
      "source": [
        "### Importing Necessary Libraries"
      ],
      "metadata": {
        "id": "Qk_sv8guSLrk"
      }
    },
    {
      "cell_type": "code",
      "source": [
        "import pandas as pd\n",
        "import matplotlib.pyplot as plt\n",
        "import seaborn as sns"
      ],
      "metadata": {
        "id": "AOAuqvoHMgVP"
      },
      "execution_count": null,
      "outputs": []
    },
    {
      "cell_type": "markdown",
      "source": [
        "###Data Collection & Data Importing"
      ],
      "metadata": {
        "id": "xtlfJKt5SMmb"
      }
    },
    {
      "cell_type": "code",
      "source": [
        "df = pd.read_csv(\"global_co2_emissions_extended.csv\")"
      ],
      "metadata": {
        "id": "7qF2xvHhObTg"
      },
      "execution_count": null,
      "outputs": []
    },
    {
      "cell_type": "markdown",
      "source": [
        "###Data Inspection & Data Understanding"
      ],
      "metadata": {
        "id": "_jxP3LnSTKJ7"
      }
    },
    {
      "cell_type": "code",
      "source": [
        "df.head(10)"
      ],
      "metadata": {
        "id": "TQ9efQxLQrLB"
      },
      "execution_count": null,
      "outputs": []
    },
    {
      "cell_type": "code",
      "source": [
        "df.info()"
      ],
      "metadata": {
        "id": "DPmcXgVTQzEb"
      },
      "execution_count": null,
      "outputs": []
    },
    {
      "cell_type": "code",
      "source": [
        "print(df.head())\n",
        "print(\"\\nData Info:\")\n",
        "print(df.info())"
      ],
      "metadata": {
        "id": "tCn8ohsaObRm"
      },
      "execution_count": null,
      "outputs": []
    },
    {
      "cell_type": "markdown",
      "source": [
        "###Univariate Analysis"
      ],
      "metadata": {
        "id": "QTe4qVxESHRg"
      }
    },
    {
      "cell_type": "code",
      "source": [
        "total_by_year = df.groupby(\"Year\")[\"CO2_Emissions_Mt\"].sum().reset_index()\n",
        "plt.figure(figsize=(8,5))\n",
        "sns.lineplot(data=total_by_year, x=\"Year\", y=\"CO2_Emissions_Mt\", marker='o')\n",
        "plt.title(\"🌍 Global CO₂ Emissions by Year\")\n",
        "plt.ylabel(\"Total CO₂ Emissions (Mt)\")\n",
        "plt.grid(True)\n",
        "plt.tight_layout()\n",
        "plt.show()\n"
      ],
      "metadata": {
        "id": "Bmix_JaBObNe"
      },
      "execution_count": null,
      "outputs": []
    },
    {
      "cell_type": "markdown",
      "source": [
        "###Multivariate Analysis"
      ],
      "metadata": {
        "id": "FHdZ_Es8SGSQ"
      }
    },
    {
      "cell_type": "code",
      "source": [
        "# 📌 Step 7: Emission Trends for Top Countries\n",
        "top_countries = [\"China\", \"USA\", \"India\", \"Russia\", \"Japan\"]\n",
        "plt.figure(figsize=(10,6))\n",
        "sns.lineplot(data=df[df[\"Country\"].isin(top_countries)], x=\"Year\", y=\"CO2_Emissions_Mt\", hue=\"Country\", marker='o')\n",
        "plt.title(\"📈 CO₂ Emission Trends (Top 5 Countries)\")\n",
        "plt.ylabel(\"CO₂ Emissions (Mt)\")\n",
        "plt.tight_layout()\n",
        "plt.show()\n"
      ],
      "metadata": {
        "id": "JlrUiV5_ObKm"
      },
      "execution_count": null,
      "outputs": []
    },
    {
      "cell_type": "code",
      "source": [
        "pivot = df.pivot(index=\"Country\", columns=\"Year\", values=\"CO2_Emissions_Mt\")\n",
        "plt.figure(figsize=(10,6))\n",
        "sns.heatmap(pivot, annot=True, fmt=\".0f\", cmap=\"YlGnBu\")\n",
        "plt.title(\"🔍 CO₂ Emissions by Country & Year\")\n",
        "plt.tight_layout()\n",
        "plt.show()"
      ],
      "metadata": {
        "id": "My_x1yHAObHv"
      },
      "execution_count": null,
      "outputs": []
    },
    {
      "cell_type": "markdown",
      "source": [
        "#Project Summary:\n",
        "\n",
        "###This project focused on analyzing CO₂ emissions data for the top 10 emitting countries from 2018 to 2020. The goal was to explore temporal trends, compare emission patterns across countries, and extract meaningful insights from the data.\n",
        "\n",
        "###Using Python, we applied exploratory data analysis (EDA) techniques with the help of Pandas for data handling and Matplotlib and Seaborn for creating visualizations. Through line plots, heatmaps, and country-wise comparisons, we were able to highlight variations in emissions over time and identify key contributors to global CO₂ output.\n",
        "\n",
        "###The visual analysis provided a clearer understanding of how emissions have shifted during this period and offered insights that could inform discussions around climate impact and international environmental strategies.\n",
        "\n"
      ],
      "metadata": {
        "id": "4VRVB6o9Q9K1"
      }
    }
  ]
}